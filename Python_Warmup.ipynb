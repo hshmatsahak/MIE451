{
  "cells": [
    {
      "cell_type": "markdown",
      "metadata": {
        "id": "4L1Vk_YhUVSO"
      },
      "source": [
        "# Assignment - Python Warmup\n",
        "Please follow the instructions in the assignment's PDF and fill in the code for each function."
      ]
    },
    {
      "cell_type": "markdown",
      "metadata": {
        "id": "K2wlQJ1RUVSQ"
      },
      "source": [
        "## Exercise 1"
      ]
    },
    {
      "cell_type": "code",
      "source": [
        "import pandas as pd\n",
        "import numpy as np"
      ],
      "metadata": {
        "id": "PIsClKUtw_Sh"
      },
      "execution_count": 41,
      "outputs": []
    },
    {
      "cell_type": "code",
      "execution_count": 42,
      "metadata": {
        "id": "LRYjSAU2UVSR"
      },
      "outputs": [],
      "source": [
        "# for each sentence in file, append word in specified position\n",
        "def positionWord(filePath, position):\n",
        "  import string\n",
        "  res = []\n",
        "  with open(filePath, 'r') as f: # read file\n",
        "    for line in f: # loop through lines\n",
        "      sentence = line.strip()\n",
        "      words = sentence.split(' ') # split sentence to words\n",
        "      res.append(words[position].strip(string.punctuation)) # append word in position <position> to result\n",
        "  return res"
      ]
    },
    {
      "cell_type": "code",
      "source": [
        "# positionWord(\"example.txt\", 3)"
      ],
      "metadata": {
        "id": "DuQf7VNjHk6v"
      },
      "execution_count": 43,
      "outputs": []
    },
    {
      "cell_type": "markdown",
      "metadata": {
        "id": "SVGFSuf1UVSV"
      },
      "source": [
        "## Exercise 2"
      ]
    },
    {
      "cell_type": "code",
      "execution_count": 44,
      "metadata": {
        "id": "aUz-S0pDUVSW"
      },
      "outputs": [],
      "source": [
        "# given text of potentially lower- and upper-case, return only uppercase characters\n",
        "def onlyUpperCase(text):\n",
        "  res = '' # initialize result as empty string\n",
        "  for ch in text: # loop through characters\n",
        "    if ch.isupper(): # append if its an uppercase char\n",
        "      res += ch\n",
        "  return res"
      ]
    },
    {
      "cell_type": "code",
      "source": [
        "# onlyUpperCase(\"lorem ipsum Dolor Sit amet, conSectetur.\")"
      ],
      "metadata": {
        "id": "yX5VfKaXICU2"
      },
      "execution_count": 45,
      "outputs": []
    },
    {
      "cell_type": "markdown",
      "metadata": {
        "id": "z2rIx_F7UVSZ"
      },
      "source": [
        "## Exercise 3"
      ]
    },
    {
      "cell_type": "code",
      "execution_count": 46,
      "metadata": {
        "id": "E6XvgsgmUVSa"
      },
      "outputs": [],
      "source": [
        "# return divisors of num2 between 1 and num1 (inclusive)\n",
        "def divisors(num1, num2):\n",
        "  # return range of numbers from num2, skip num2, till num1\n",
        "  return list(range(num2, num1+1, num2))"
      ]
    },
    {
      "cell_type": "code",
      "source": [
        "# print(divisors(26, 6))\n",
        "# print(divisors(2,2))\n",
        "# print(divisors(15,1))"
      ],
      "metadata": {
        "id": "dvwP8i6dIaVK"
      },
      "execution_count": 47,
      "outputs": []
    },
    {
      "cell_type": "markdown",
      "metadata": {
        "id": "fJEhXAtDUVSd"
      },
      "source": [
        "## Exercise 4"
      ]
    },
    {
      "cell_type": "code",
      "execution_count": 48,
      "metadata": {
        "id": "3Cs0OgGmUVSe"
      },
      "outputs": [],
      "source": [
        "# return dictionary of word counts given list of words\n",
        "def countWords(wordList):\n",
        "  wordCount = dict()\n",
        "  for word in wordList: # loop through wordList\n",
        "    wordCount[word] = wordCount.get(word, 0) + 1 # increment word count\n",
        "  return wordCount"
      ]
    },
    {
      "cell_type": "code",
      "source": [
        "# countWords([\"the\", \"seething\", \"sea\", \"ceaseth\", \"and\", \"thus\", \"the\", \"seething\", \"sea\", \"sufficeth\", \"us\"])"
      ],
      "metadata": {
        "id": "yggpMdssIwxG"
      },
      "execution_count": 49,
      "outputs": []
    },
    {
      "cell_type": "markdown",
      "metadata": {
        "id": "CGC6gPENUVSh"
      },
      "source": [
        "## Exercise 5"
      ]
    },
    {
      "cell_type": "code",
      "execution_count": 50,
      "metadata": {
        "id": "yABkiEt5UVSi"
      },
      "outputs": [],
      "source": [
        "# Given list of words, return dictionary of word counts by length of word\n",
        "def organizedCountWords(wordList):\n",
        "  res = dict()\n",
        "  for word in wordList: # loop through words\n",
        "    if len(word) not in res: # if wordlen not in dict\n",
        "      res[len(word)] = dict() # empty dict\n",
        "    res[len(word)][word] = res[len(word)].get(word, 0) + 1 # increment by 1\n",
        "  return res"
      ]
    },
    {
      "cell_type": "code",
      "source": [
        "organizedCountWords([\"the\", \"seething\", \"sea\", \"ceaseth\", \"and\", \"thus\", \"the\", \"seething\", \"sea\", \"sufficeth\", \"us\"])"
      ],
      "metadata": {
        "colab": {
          "base_uri": "https://localhost:8080/"
        },
        "id": "7rAjX_X7KNYM",
        "outputId": "0827c89a-ba68-4c6f-cf8f-6e93c056e8ce"
      },
      "execution_count": 51,
      "outputs": [
        {
          "output_type": "execute_result",
          "data": {
            "text/plain": [
              "{3: {'the': 2, 'sea': 2, 'and': 1},\n",
              " 8: {'seething': 2},\n",
              " 7: {'ceaseth': 1},\n",
              " 4: {'thus': 1},\n",
              " 9: {'sufficeth': 1},\n",
              " 2: {'us': 1}}"
            ]
          },
          "metadata": {},
          "execution_count": 51
        }
      ]
    },
    {
      "cell_type": "markdown",
      "metadata": {
        "id": "tlb0ecAtUX-e"
      },
      "source": [
        "##Exercise 6"
      ]
    },
    {
      "cell_type": "code",
      "execution_count": 52,
      "metadata": {
        "id": "FvW7BpD3UXG2"
      },
      "outputs": [],
      "source": [
        "# Compute average price of rooms in neighbourhood according to provided filters\n",
        "def AvgNeighbourhoodListingPrice(neighbourhoodList, room_type, number_of_reviews, minimum_nights):\n",
        "  df = pd.read_csv('https://raw.githubusercontent.com/MIE451-2021/course-datasets/master/toronto_airbnb_listings_Aug2019.csv') # read df\n",
        "  df = df[df['neighbourhood'].isin(neighbourhoodList)] # filter by neighbourhoodList\n",
        "  df = df[df['room_type'] == room_type] # filter by room_type\n",
        "  df = df[df['number_of_reviews'] >= number_of_reviews] # filter by number of reviews\n",
        "  df = df[df['minimum_nights'] <= minimum_nights] # filter by min nights\n",
        "  grouped_df = df.groupby('neighbourhood')[['price']].mean().round(2) # make one column, index by neighbourhood\n",
        "  grouped_df.sort_values(by=['price'], inplace=True, # sort descending order\n",
        "               ascending = [False])\n",
        "  return grouped_df"
      ]
    },
    {
      "cell_type": "code",
      "source": [
        "AvgNeighbourhoodListingPrice([\"Edenbridge-Humber Valley\",\"Annex\", \"The Beaches\"],\"Entire home/apt\", 30, 3)"
      ],
      "metadata": {
        "colab": {
          "base_uri": "https://localhost:8080/",
          "height": 175
        },
        "id": "fNSFiU59Kzuq",
        "outputId": "da049bf3-3f57-4661-e961-69f8686b9fab"
      },
      "execution_count": 53,
      "outputs": [
        {
          "output_type": "execute_result",
          "data": {
            "text/plain": [
              "                           price\n",
              "neighbourhood                   \n",
              "Edenbridge-Humber Valley  453.33\n",
              "Annex                     141.99\n",
              "The Beaches               126.24"
            ],
            "text/html": [
              "\n",
              "  <div id=\"df-d93af8f6-e510-4d66-ba8e-ebfa94401c0a\" class=\"colab-df-container\">\n",
              "    <div>\n",
              "<style scoped>\n",
              "    .dataframe tbody tr th:only-of-type {\n",
              "        vertical-align: middle;\n",
              "    }\n",
              "\n",
              "    .dataframe tbody tr th {\n",
              "        vertical-align: top;\n",
              "    }\n",
              "\n",
              "    .dataframe thead th {\n",
              "        text-align: right;\n",
              "    }\n",
              "</style>\n",
              "<table border=\"1\" class=\"dataframe\">\n",
              "  <thead>\n",
              "    <tr style=\"text-align: right;\">\n",
              "      <th></th>\n",
              "      <th>price</th>\n",
              "    </tr>\n",
              "    <tr>\n",
              "      <th>neighbourhood</th>\n",
              "      <th></th>\n",
              "    </tr>\n",
              "  </thead>\n",
              "  <tbody>\n",
              "    <tr>\n",
              "      <th>Edenbridge-Humber Valley</th>\n",
              "      <td>453.33</td>\n",
              "    </tr>\n",
              "    <tr>\n",
              "      <th>Annex</th>\n",
              "      <td>141.99</td>\n",
              "    </tr>\n",
              "    <tr>\n",
              "      <th>The Beaches</th>\n",
              "      <td>126.24</td>\n",
              "    </tr>\n",
              "  </tbody>\n",
              "</table>\n",
              "</div>\n",
              "    <div class=\"colab-df-buttons\">\n",
              "\n",
              "  <div class=\"colab-df-container\">\n",
              "    <button class=\"colab-df-convert\" onclick=\"convertToInteractive('df-d93af8f6-e510-4d66-ba8e-ebfa94401c0a')\"\n",
              "            title=\"Convert this dataframe to an interactive table.\"\n",
              "            style=\"display:none;\">\n",
              "\n",
              "  <svg xmlns=\"http://www.w3.org/2000/svg\" height=\"24px\" viewBox=\"0 -960 960 960\">\n",
              "    <path d=\"M120-120v-720h720v720H120Zm60-500h600v-160H180v160Zm220 220h160v-160H400v160Zm0 220h160v-160H400v160ZM180-400h160v-160H180v160Zm440 0h160v-160H620v160ZM180-180h160v-160H180v160Zm440 0h160v-160H620v160Z\"/>\n",
              "  </svg>\n",
              "    </button>\n",
              "\n",
              "  <style>\n",
              "    .colab-df-container {\n",
              "      display:flex;\n",
              "      gap: 12px;\n",
              "    }\n",
              "\n",
              "    .colab-df-convert {\n",
              "      background-color: #E8F0FE;\n",
              "      border: none;\n",
              "      border-radius: 50%;\n",
              "      cursor: pointer;\n",
              "      display: none;\n",
              "      fill: #1967D2;\n",
              "      height: 32px;\n",
              "      padding: 0 0 0 0;\n",
              "      width: 32px;\n",
              "    }\n",
              "\n",
              "    .colab-df-convert:hover {\n",
              "      background-color: #E2EBFA;\n",
              "      box-shadow: 0px 1px 2px rgba(60, 64, 67, 0.3), 0px 1px 3px 1px rgba(60, 64, 67, 0.15);\n",
              "      fill: #174EA6;\n",
              "    }\n",
              "\n",
              "    .colab-df-buttons div {\n",
              "      margin-bottom: 4px;\n",
              "    }\n",
              "\n",
              "    [theme=dark] .colab-df-convert {\n",
              "      background-color: #3B4455;\n",
              "      fill: #D2E3FC;\n",
              "    }\n",
              "\n",
              "    [theme=dark] .colab-df-convert:hover {\n",
              "      background-color: #434B5C;\n",
              "      box-shadow: 0px 1px 3px 1px rgba(0, 0, 0, 0.15);\n",
              "      filter: drop-shadow(0px 1px 2px rgba(0, 0, 0, 0.3));\n",
              "      fill: #FFFFFF;\n",
              "    }\n",
              "  </style>\n",
              "\n",
              "    <script>\n",
              "      const buttonEl =\n",
              "        document.querySelector('#df-d93af8f6-e510-4d66-ba8e-ebfa94401c0a button.colab-df-convert');\n",
              "      buttonEl.style.display =\n",
              "        google.colab.kernel.accessAllowed ? 'block' : 'none';\n",
              "\n",
              "      async function convertToInteractive(key) {\n",
              "        const element = document.querySelector('#df-d93af8f6-e510-4d66-ba8e-ebfa94401c0a');\n",
              "        const dataTable =\n",
              "          await google.colab.kernel.invokeFunction('convertToInteractive',\n",
              "                                                    [key], {});\n",
              "        if (!dataTable) return;\n",
              "\n",
              "        const docLinkHtml = 'Like what you see? Visit the ' +\n",
              "          '<a target=\"_blank\" href=https://colab.research.google.com/notebooks/data_table.ipynb>data table notebook</a>'\n",
              "          + ' to learn more about interactive tables.';\n",
              "        element.innerHTML = '';\n",
              "        dataTable['output_type'] = 'display_data';\n",
              "        await google.colab.output.renderOutput(dataTable, element);\n",
              "        const docLink = document.createElement('div');\n",
              "        docLink.innerHTML = docLinkHtml;\n",
              "        element.appendChild(docLink);\n",
              "      }\n",
              "    </script>\n",
              "  </div>\n",
              "\n",
              "\n",
              "<div id=\"df-2058e58c-bedb-455c-9fff-2b601b442d00\">\n",
              "  <button class=\"colab-df-quickchart\" onclick=\"quickchart('df-2058e58c-bedb-455c-9fff-2b601b442d00')\"\n",
              "            title=\"Suggest charts.\"\n",
              "            style=\"display:none;\">\n",
              "\n",
              "<svg xmlns=\"http://www.w3.org/2000/svg\" height=\"24px\"viewBox=\"0 0 24 24\"\n",
              "     width=\"24px\">\n",
              "    <g>\n",
              "        <path d=\"M19 3H5c-1.1 0-2 .9-2 2v14c0 1.1.9 2 2 2h14c1.1 0 2-.9 2-2V5c0-1.1-.9-2-2-2zM9 17H7v-7h2v7zm4 0h-2V7h2v10zm4 0h-2v-4h2v4z\"/>\n",
              "    </g>\n",
              "</svg>\n",
              "  </button>\n",
              "\n",
              "<style>\n",
              "  .colab-df-quickchart {\n",
              "      --bg-color: #E8F0FE;\n",
              "      --fill-color: #1967D2;\n",
              "      --hover-bg-color: #E2EBFA;\n",
              "      --hover-fill-color: #174EA6;\n",
              "      --disabled-fill-color: #AAA;\n",
              "      --disabled-bg-color: #DDD;\n",
              "  }\n",
              "\n",
              "  [theme=dark] .colab-df-quickchart {\n",
              "      --bg-color: #3B4455;\n",
              "      --fill-color: #D2E3FC;\n",
              "      --hover-bg-color: #434B5C;\n",
              "      --hover-fill-color: #FFFFFF;\n",
              "      --disabled-bg-color: #3B4455;\n",
              "      --disabled-fill-color: #666;\n",
              "  }\n",
              "\n",
              "  .colab-df-quickchart {\n",
              "    background-color: var(--bg-color);\n",
              "    border: none;\n",
              "    border-radius: 50%;\n",
              "    cursor: pointer;\n",
              "    display: none;\n",
              "    fill: var(--fill-color);\n",
              "    height: 32px;\n",
              "    padding: 0;\n",
              "    width: 32px;\n",
              "  }\n",
              "\n",
              "  .colab-df-quickchart:hover {\n",
              "    background-color: var(--hover-bg-color);\n",
              "    box-shadow: 0 1px 2px rgba(60, 64, 67, 0.3), 0 1px 3px 1px rgba(60, 64, 67, 0.15);\n",
              "    fill: var(--button-hover-fill-color);\n",
              "  }\n",
              "\n",
              "  .colab-df-quickchart-complete:disabled,\n",
              "  .colab-df-quickchart-complete:disabled:hover {\n",
              "    background-color: var(--disabled-bg-color);\n",
              "    fill: var(--disabled-fill-color);\n",
              "    box-shadow: none;\n",
              "  }\n",
              "\n",
              "  .colab-df-spinner {\n",
              "    border: 2px solid var(--fill-color);\n",
              "    border-color: transparent;\n",
              "    border-bottom-color: var(--fill-color);\n",
              "    animation:\n",
              "      spin 1s steps(1) infinite;\n",
              "  }\n",
              "\n",
              "  @keyframes spin {\n",
              "    0% {\n",
              "      border-color: transparent;\n",
              "      border-bottom-color: var(--fill-color);\n",
              "      border-left-color: var(--fill-color);\n",
              "    }\n",
              "    20% {\n",
              "      border-color: transparent;\n",
              "      border-left-color: var(--fill-color);\n",
              "      border-top-color: var(--fill-color);\n",
              "    }\n",
              "    30% {\n",
              "      border-color: transparent;\n",
              "      border-left-color: var(--fill-color);\n",
              "      border-top-color: var(--fill-color);\n",
              "      border-right-color: var(--fill-color);\n",
              "    }\n",
              "    40% {\n",
              "      border-color: transparent;\n",
              "      border-right-color: var(--fill-color);\n",
              "      border-top-color: var(--fill-color);\n",
              "    }\n",
              "    60% {\n",
              "      border-color: transparent;\n",
              "      border-right-color: var(--fill-color);\n",
              "    }\n",
              "    80% {\n",
              "      border-color: transparent;\n",
              "      border-right-color: var(--fill-color);\n",
              "      border-bottom-color: var(--fill-color);\n",
              "    }\n",
              "    90% {\n",
              "      border-color: transparent;\n",
              "      border-bottom-color: var(--fill-color);\n",
              "    }\n",
              "  }\n",
              "</style>\n",
              "\n",
              "  <script>\n",
              "    async function quickchart(key) {\n",
              "      const quickchartButtonEl =\n",
              "        document.querySelector('#' + key + ' button');\n",
              "      quickchartButtonEl.disabled = true;  // To prevent multiple clicks.\n",
              "      quickchartButtonEl.classList.add('colab-df-spinner');\n",
              "      try {\n",
              "        const charts = await google.colab.kernel.invokeFunction(\n",
              "            'suggestCharts', [key], {});\n",
              "      } catch (error) {\n",
              "        console.error('Error during call to suggestCharts:', error);\n",
              "      }\n",
              "      quickchartButtonEl.classList.remove('colab-df-spinner');\n",
              "      quickchartButtonEl.classList.add('colab-df-quickchart-complete');\n",
              "    }\n",
              "    (() => {\n",
              "      let quickchartButtonEl =\n",
              "        document.querySelector('#df-2058e58c-bedb-455c-9fff-2b601b442d00 button');\n",
              "      quickchartButtonEl.style.display =\n",
              "        google.colab.kernel.accessAllowed ? 'block' : 'none';\n",
              "    })();\n",
              "  </script>\n",
              "</div>\n",
              "    </div>\n",
              "  </div>\n"
            ]
          },
          "metadata": {},
          "execution_count": 53
        }
      ]
    },
    {
      "cell_type": "markdown",
      "metadata": {
        "id": "cxMjcYPrjkZL"
      },
      "source": [
        "## Exercise 7"
      ]
    },
    {
      "cell_type": "code",
      "execution_count": 54,
      "metadata": {
        "id": "xRjMh_EjjnYM"
      },
      "outputs": [],
      "source": [
        "# Solve for coefficients for least squares regression problem\n",
        "def leastSquaresFit(urlX,urlY):\n",
        "  # each line is self-explanatory and doesn't need comments\n",
        "  Xdf = pd.read_csv(urlX, header=None)\n",
        "  X = Xdf.to_numpy()\n",
        "  N = X.shape[0]\n",
        "  column_of_ones = np.ones((N, 1))\n",
        "  X = np.hstack((column_of_ones, X))\n",
        "  ydf = pd.read_csv(urlY, header=None)\n",
        "  y = ydf.to_numpy()\n",
        "  XT = np.transpose(X)\n",
        "  XTX = np.matmul(XT, X)\n",
        "  XTy = np.matmul(XT, y)\n",
        "  w = np.matmul(np.linalg.inv(XTX), XTy)\n",
        "  return w"
      ]
    },
    {
      "cell_type": "code",
      "source": [
        "URLX = 'https://raw.githubusercontent.com/MIE451-2021/course-datasets/master/X.csv'\n",
        "URLY = 'https://raw.githubusercontent.com/MIE451-2021/course-datasets/master/Y.csv'\n",
        "leastSquaresFit(URLX,URLY)"
      ],
      "metadata": {
        "id": "b7QTNMNmQ4Ch",
        "colab": {
          "base_uri": "https://localhost:8080/"
        },
        "outputId": "2bba8ffa-0d61-452d-877c-ddaafdc5d95f"
      },
      "execution_count": 55,
      "outputs": [
        {
          "output_type": "execute_result",
          "data": {
            "text/plain": [
              "array([[1.15740465e-03],\n",
              "       [7.85819959e+01],\n",
              "       [6.86835383e+01],\n",
              "       [6.64017869e+01]])"
            ]
          },
          "metadata": {},
          "execution_count": 55
        }
      ]
    },
    {
      "cell_type": "markdown",
      "metadata": {
        "id": "4BVZJpHKUVSk"
      },
      "source": [
        "----------\n",
        "## Validators\n",
        "This following cell provide basic validation of your functions.\n",
        "\n",
        "You should run each cell and make sure you do not get an exception.\n",
        "\n",
        "**IMPORTANT: passing these validators does not mean your code is correct. These are basic validators to make sure the interface of your functions is correct.**"
      ]
    },
    {
      "cell_type": "code",
      "execution_count": 56,
      "metadata": {
        "id": "ciHXaur-UVSk"
      },
      "outputs": [],
      "source": [
        "assert(isinstance(positionWord(\"example.txt\", 2), list))"
      ]
    },
    {
      "cell_type": "code",
      "execution_count": 57,
      "metadata": {
        "id": "j7V9yRrQUVSm"
      },
      "outputs": [],
      "source": [
        "assert(isinstance(onlyUpperCase(\"lorem ipsum Dolor Sit amet, conSectetur.\"), str))"
      ]
    },
    {
      "cell_type": "code",
      "execution_count": 58,
      "metadata": {
        "id": "xEW8K0GKUVSo"
      },
      "outputs": [],
      "source": [
        "assert(isinstance(divisors(23, 6), list))"
      ]
    },
    {
      "cell_type": "code",
      "execution_count": 59,
      "metadata": {
        "id": "oo1YSY-GUVSq"
      },
      "outputs": [],
      "source": [
        "words = [\"the\", \"seething\", \"sea\", \"ceaseth\", \"and\", \"thus\", \"the\", \"seething\", \"sea\", \"sufficeth\", \"us\"]\n",
        "assert(isinstance(countWords(words), dict))"
      ]
    },
    {
      "cell_type": "code",
      "execution_count": 60,
      "metadata": {
        "id": "FFbsU1TuUVSr"
      },
      "outputs": [],
      "source": [
        "words = [\"the\", \"seething\", \"sea\", \"ceaseth\", \"and\", \"thus\", \"the\", \"seething\", \"sea\", \"sufficeth\", \"us\"]\n",
        "assert(isinstance(organizedCountWords(words), dict))"
      ]
    },
    {
      "cell_type": "code",
      "execution_count": 61,
      "metadata": {
        "id": "ws_ZzLA0W1Qp"
      },
      "outputs": [],
      "source": [
        "df = AvgNeighbourhoodListingPrice([\"Little Portugal\",\"Waterfront Communities-The Island\",\"Rosedale-Moore Park\",\"Kensington-Chinatown\"], \"Private room\", 50, 4)\n",
        "assert(df.shape == (4,1))"
      ]
    },
    {
      "cell_type": "code",
      "execution_count": 62,
      "metadata": {
        "id": "jJdtrJvurNcl"
      },
      "outputs": [],
      "source": [
        "import numpy as np\n",
        "w = leastSquaresFit(\"https://raw.githubusercontent.com/MIE451-2022/course-datasets/main/X.csv\",\"https://raw.githubusercontent.com/MIE451-2022/course-datasets/main/Y.csv\")\n",
        "assert(isinstance(w, np.ndarray))"
      ]
    },
    {
      "cell_type": "code",
      "execution_count": 63,
      "metadata": {
        "id": "dZNBA8Y6g602"
      },
      "outputs": [],
      "source": [
        "import pandas as pd\n",
        "assert(isinstance(df,pd.DataFrame))"
      ]
    }
  ],
  "metadata": {
    "colab": {
      "provenance": []
    },
    "kernelspec": {
      "display_name": "Python 3",
      "language": "python",
      "name": "python3"
    },
    "language_info": {
      "codemirror_mode": {
        "name": "ipython",
        "version": 3
      },
      "file_extension": ".py",
      "mimetype": "text/x-python",
      "name": "python",
      "nbconvert_exporter": "python",
      "pygments_lexer": "ipython3",
      "version": "3.8.8"
    }
  },
  "nbformat": 4,
  "nbformat_minor": 0
}