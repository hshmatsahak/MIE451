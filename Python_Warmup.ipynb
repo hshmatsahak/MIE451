{
 "cells": [
  {
   "cell_type": "markdown",
   "metadata": {
    "id": "4L1Vk_YhUVSO"
   },
   "source": [
    "# Assignment - Python Warmup\n",
    "Please follow the instructions in the assignment's PDF and fill in the code for each function."
   ]
  },
  {
   "cell_type": "markdown",
   "metadata": {
    "id": "K2wlQJ1RUVSQ"
   },
   "source": [
    "## Exercise 1"
   ]
  },
  {
   "cell_type": "code",
   "execution_count": null,
   "metadata": {
    "id": "LRYjSAU2UVSR"
   },
   "outputs": [],
   "source": [
    "def positionWord(filePath, position):\n",
    "  # Please write your code here"
   ]
  },
  {
   "cell_type": "markdown",
   "metadata": {
    "id": "SVGFSuf1UVSV"
   },
   "source": [
    "## Exercise 2"
   ]
  },
  {
   "cell_type": "code",
   "execution_count": null,
   "metadata": {
    "id": "aUz-S0pDUVSW"
   },
   "outputs": [],
   "source": [
    "def onlyUpperCase(text):\n",
    "  # Please write your code here"
   ]
  },
  {
   "cell_type": "markdown",
   "metadata": {
    "id": "z2rIx_F7UVSZ"
   },
   "source": [
    "## Exercise 3"
   ]
  },
  {
   "cell_type": "code",
   "execution_count": null,
   "metadata": {
    "id": "E6XvgsgmUVSa"
   },
   "outputs": [],
   "source": [
    "def divisors(num1, num2):\n",
    "  # Please write your code here"
   ]
  },
  {
   "cell_type": "markdown",
   "metadata": {
    "id": "fJEhXAtDUVSd"
   },
   "source": [
    "## Exercise 4"
   ]
  },
  {
   "cell_type": "code",
   "execution_count": null,
   "metadata": {
    "id": "3Cs0OgGmUVSe"
   },
   "outputs": [],
   "source": [
    "def countWords(wordList):\n",
    "  # Please write your code here"
   ]
  },
  {
   "cell_type": "markdown",
   "metadata": {
    "id": "CGC6gPENUVSh"
   },
   "source": [
    "## Exercise 5"
   ]
  },
  {
   "cell_type": "code",
   "execution_count": null,
   "metadata": {
    "id": "yABkiEt5UVSi"
   },
   "outputs": [],
   "source": [
    "def organizedCountWords(wordList):\n",
    "  # Please write your code here"
   ]
  },
  {
   "cell_type": "markdown",
   "metadata": {
    "id": "tlb0ecAtUX-e"
   },
   "source": [
    "##Exercise 6"
   ]
  },
  {
   "cell_type": "code",
   "execution_count": null,
   "metadata": {
    "id": "FvW7BpD3UXG2"
   },
   "outputs": [],
   "source": [
    "def AvgNeighbourhoodListingPrice(neighbourhoodList, room_type, number_of_reviews, minimum_nights):\n",
    "  # Please write your code here"
   ]
  },
  {
   "cell_type": "markdown",
   "metadata": {
    "id": "cxMjcYPrjkZL"
   },
   "source": [
    "## Exercise 7"
   ]
  },
  {
   "cell_type": "code",
   "execution_count": null,
   "metadata": {
    "id": "xRjMh_EjjnYM"
   },
   "outputs": [],
   "source": [
    "def leastSquaresFit(urlX,urlY):\n",
    "  # Please write your code here\n"
   ]
  },
  {
   "cell_type": "markdown",
   "metadata": {
    "id": "4BVZJpHKUVSk"
   },
   "source": [
    "----------\n",
    "## Validators\n",
    "This following cell provide basic validation of your functions.\n",
    "\n",
    "You should run each cell and make sure you do not get an exception.\n",
    "\n",
    "**IMPORTANT: passing these validators does not mean your code is correct. These are basic validators to make sure the interface of your functions is correct.**"
   ]
  },
  {
   "cell_type": "code",
   "execution_count": null,
   "metadata": {
    "id": "ciHXaur-UVSk"
   },
   "outputs": [],
   "source": [
    "assert(isinstance(positionWord(\"example.txt\", 2), list))"
   ]
  },
  {
   "cell_type": "code",
   "execution_count": null,
   "metadata": {
    "id": "j7V9yRrQUVSm"
   },
   "outputs": [],
   "source": [
    "assert(isinstance(onlyUpperCase(\"lorem ipsum Dolor Sit amet, conSectetur.\"), str))"
   ]
  },
  {
   "cell_type": "code",
   "execution_count": null,
   "metadata": {
    "id": "xEW8K0GKUVSo"
   },
   "outputs": [],
   "source": [
    "assert(isinstance(divisors(23, 6), list))"
   ]
  },
  {
   "cell_type": "code",
   "execution_count": null,
   "metadata": {
    "id": "oo1YSY-GUVSq"
   },
   "outputs": [],
   "source": [
    "words = [\"the\", \"seething\", \"sea\", \"ceaseth\", \"and\", \"thus\", \"the\", \"seething\", \"sea\", \"sufficeth\", \"us\"]\n",
    "assert(isinstance(countWords(words), dict))"
   ]
  },
  {
   "cell_type": "code",
   "execution_count": null,
   "metadata": {
    "id": "FFbsU1TuUVSr"
   },
   "outputs": [],
   "source": [
    "words = [\"the\", \"seething\", \"sea\", \"ceaseth\", \"and\", \"thus\", \"the\", \"seething\", \"sea\", \"sufficeth\", \"us\"]\n",
    "assert(isinstance(organizedCountWords(words), dict))"
   ]
  },
  {
   "cell_type": "code",
   "execution_count": null,
   "metadata": {
    "id": "ws_ZzLA0W1Qp"
   },
   "outputs": [],
   "source": [
    "df = AvgNeighbourhoodListingPrice([\"Little Portugal\",\"Waterfront Communities-The Island\",\"Rosedale-Moore Park\",\"Kensington-Chinatown\"], \"Private room\", 50, 4)\n",
    "assert(df.shape == (4,1))"
   ]
  },
  {
   "cell_type": "code",
   "execution_count": null,
   "metadata": {
    "id": "jJdtrJvurNcl"
   },
   "outputs": [],
   "source": [
    "import numpy as np \n",
    "w = leastSquaresFit(\"https://raw.githubusercontent.com/MIE451-2022/course-datasets/main/X.csv\",\"https://raw.githubusercontent.com/MIE451-2022/course-datasets/main/Y.csv\")\n",
    "assert(isinstance(w, np.ndarray))"
   ]
  },
  {
   "cell_type": "code",
   "execution_count": null,
   "metadata": {
    "id": "dZNBA8Y6g602"
   },
   "outputs": [],
   "source": [
    "import pandas as pd\n",
    "assert(isinstance(df,pd.DataFrame))"
   ]
  }
 ],
 "metadata": {
  "colab": {
   "collapsed_sections": [],
   "name": "Python_Warmup_Template2021.ipynb",
   "provenance": []
  },
  "kernelspec": {
   "display_name": "Python 3",
   "language": "python",
   "name": "python3"
  },
  "language_info": {
   "codemirror_mode": {
    "name": "ipython",
    "version": 3
   },
   "file_extension": ".py",
   "mimetype": "text/x-python",
   "name": "python",
   "nbconvert_exporter": "python",
   "pygments_lexer": "ipython3",
   "version": "3.8.8"
  }
 },
 "nbformat": 4,
 "nbformat_minor": 1
}
