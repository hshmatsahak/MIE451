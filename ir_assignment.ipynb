{
  "cells": [
    {
      "cell_type": "markdown",
      "metadata": {
        "id": "bdkwQ36739Wi"
      },
      "source": [
        "# Assignment 1: IR"
      ]
    },
    {
      "cell_type": "markdown",
      "metadata": {
        "id": "R-gYMXKq39Wj"
      },
      "source": [
        "## Preparations\n",
        "* Put all your imports, and path constants in the next cells"
      ]
    },
    {
      "cell_type": "code",
      "execution_count": null,
      "metadata": {
        "id": "QSChF98s8ErB"
      },
      "outputs": [],
      "source": [
        "!pip install whoosh\n",
        "!pip install pytrec_eval\n",
        "!pip install wget\n",
        "!pip install transformers\n",
        "!pip install sentence_transformers"
      ]
    },
    {
      "cell_type": "code",
      "execution_count": null,
      "metadata": {
        "id": "0HIF5uBV8cRy"
      },
      "outputs": [],
      "source": [
        "import wget\n",
        "wget.download(\"https://github.com/MIE451-1513-2023/course-datasets/raw/main/government.zip\", \"government.zip\")"
      ]
    },
    {
      "cell_type": "code",
      "execution_count": null,
      "metadata": {
        "id": "xN-TAsbPAsRm"
      },
      "outputs": [],
      "source": [
        "!unzip government.zip"
      ]
    },
    {
      "cell_type": "code",
      "execution_count": null,
      "metadata": {
        "id": "7VNv24P839Wk"
      },
      "outputs": [],
      "source": [
        "# imports\n",
        "# Put all your imports here\n",
        "from whoosh import index, writing\n",
        "from whoosh.fields import Schema, TEXT, KEYWORD, ID, STORED\n",
        "from whoosh.analysis import *\n",
        "from whoosh.qparser import QueryParser\n",
        "import os.path\n",
        "from pathlib import Path\n",
        "import tempfile\n",
        "import subprocess\n",
        "import pytrec_eval\n",
        "import wget\n",
        "import abc\n",
        "from abc import abstractmethod\n",
        "from whoosh.analysis import Filter"
      ]
    },
    {
      "cell_type": "code",
      "execution_count": null,
      "metadata": {
        "id": "foausn0UxSId"
      },
      "outputs": [],
      "source": [
        "class IRSystem(metaclass=abc.ABCMeta):\n",
        "    \"\"\"\n",
        "    Abstract class which is inherited by other IR system\n",
        "    \"\"\"\n",
        "\n",
        "    def __init__(self, data_dir):\n",
        "        # DON'T change the following names,topic_file, qrels_file, document_dir, file_list\n",
        "        self.topic_file = os.path.join(data_dir, \"gov.topics\")\n",
        "        self.qrels_file = os.path.join(data_dir, \"gov.qrels\")\n",
        "        self.document_dir = os.path.join(data_dir, \"documents\")\n",
        "        self.file_list = [str(filePath) for filePath in Path(self.document_dir).glob(\"**/*\") if filePath.is_file()]\n",
        "\n",
        "        self.create_index()\n",
        "        self.create_parser_searcher()\n",
        "\n",
        "    @abstractmethod\n",
        "    def create_index(self):\n",
        "        pass\n",
        "\n",
        "    @abstractmethod\n",
        "    def add_files(self):\n",
        "        pass\n",
        "\n",
        "    @abstractmethod\n",
        "    def create_parser_searcher(self):\n",
        "        pass\n",
        "\n",
        "    @abstractmethod\n",
        "    def perform_search(self, topic_phrase):\n",
        "        pass\n",
        "\n",
        "    @staticmethod\n",
        "    def post_process_score(score):\n",
        "        return score\n",
        "\n",
        "    @staticmethod\n",
        "    def print_trec_eval_result(results):\n",
        "\n",
        "        if not results:\n",
        "            print('empty results')\n",
        "            return\n",
        "\n",
        "        def print_line(name, scope, num):\n",
        "            print('{:25s}{:8s}{:.4f}'.format(name, scope, num))\n",
        "\n",
        "        for query_id, query_measures in results.items():\n",
        "            for measure, value in query_measures.items():\n",
        "                if measure == \"runid\":\n",
        "                    continue\n",
        "                print_line(measure, query_id, value)\n",
        "\n",
        "        for measure in query_measures.keys():\n",
        "            if measure == \"runid\":\n",
        "                continue\n",
        "            print_line(\n",
        "                measure,\n",
        "                'all',\n",
        "                pytrec_eval.compute_aggregated_measure(\n",
        "                    measure,\n",
        "                    [query_measures[measure]\n",
        "                     for query_measures in results.values()]))\n",
        "\n",
        "\n",
        "    def score(self,docnum,topic_results, topic_phrase):\n",
        "        return topic_results.score(docnum)\n",
        "\n",
        "\n",
        "    def print_rel_name(self, q_id):\n",
        "        with open(self.topic_file, \"r\") as tf:\n",
        "            topics = tf.read().splitlines()\n",
        "        for topic in topics:\n",
        "            topic_id, topic_phrase = tuple(topic.split(\" \", 1))\n",
        "            if topic_id == q_id:\n",
        "                print(\"---------------------------Topic_id and Topic_phrase----------------------------------\")\n",
        "                print(topic_id, topic_phrase)\n",
        "                 # get search result\n",
        "                topic_results = self.perform_search(topic_phrase)\n",
        "                print(\"---------------------------Return documents----------------------------------\")\n",
        "                for (docnum, result) in enumerate(topic_results):\n",
        "                    score = self.score(docnum, topic_results, topic_phrase)\n",
        "                    score = self.post_process_score(score)\n",
        "                    print(\"%s Q0 %s %d %lf test\" % (topic_id, os.path.basename(result[\"file_path\"]), docnum, score))\n",
        "                print(\"---------------------------Relevant documents----------------------------------\")\n",
        "                with open(self.qrels_file, 'r') as f_qrel:\n",
        "                    qrels = f_qrel.readlines()\n",
        "                    for i in qrels:\n",
        "                        qid, _, doc, rel = i.rstrip().split(\" \")\n",
        "                        if qid == q_id and rel == \"1\":\n",
        "                            print(i.rstrip())\n",
        "\n",
        "    def py_trec_eval(self):\n",
        "\n",
        "        self.create_parser_searcher()\n",
        "        # Load topic file - a list of topics(search phrases) used for evalutation\n",
        "        with open(self.topic_file, \"r\") as tf:\n",
        "            topics = tf.read().splitlines()\n",
        "\n",
        "            # create an output file to which we'll write our results\n",
        "        temp_output_file = tempfile.mkstemp()[1]\n",
        "        with open(temp_output_file, \"w\") as outputTRECFile:\n",
        "            # for each evaluated topic:\n",
        "            # build a query and record the results in the file in TREC_EVAL format\n",
        "            for topic in topics:\n",
        "                topic_id, topic_phrase = tuple(topic.split(\" \", 1))\n",
        "                # get search result\n",
        "                topic_results = self.perform_search(topic_phrase)\n",
        "                # format the result\n",
        "                for (docnum, result) in enumerate(topic_results):\n",
        "                    score = self.score(docnum, topic_results, topic_phrase)\n",
        "                    outputTRECFile.write(\n",
        "                        \"%s Q0 %s %d %lf test\\n\" % (topic_id, os.path.basename(result[\"file_path\"]), docnum, score))\n",
        "                    topic_with_result = topic_id\n",
        "\n",
        "\n",
        "        with open(self.qrels_file, 'r') as f_qrel:\n",
        "            qrel = pytrec_eval.parse_qrel(f_qrel)\n",
        "\n",
        "        with open(temp_output_file, 'r') as f_run:\n",
        "            run = pytrec_eval.parse_run(f_run)\n",
        "\n",
        "        evaluator = pytrec_eval.RelevanceEvaluator(\n",
        "            qrel, pytrec_eval.supported_measures)\n",
        "\n",
        "        results = evaluator.evaluate(run)\n",
        "\n",
        "        #fill results dictionary with queries that were returned 0 documents\n",
        "        topic_ids = {t.split()[0] for t in topics}\n",
        "        for emptyresult_topicid in topic_ids.difference(set(results.keys())):\n",
        "            num_rel = float(sum(qrel[emptyresult_topicid].values()))\n",
        "            if num_rel>0:\n",
        "              topic_stats={measure:0.0 for measure in results[topic_with_result]}\n",
        "            else:\n",
        "              topic_stats={measure:1.0 for measure in results[topic_with_result]}\n",
        "            topic_stats[\"num_rel\"]=num_rel\n",
        "            topic_stats[\"num_ret\"] = 0.0\n",
        "            topic_stats[\"num_rel_ret\"] = 0.0\n",
        "            topic_stats[\"num_q\"]=1.0\n",
        "\n",
        "            results[emptyresult_topicid] = topic_stats\n",
        "\n",
        "\n",
        "        self.print_trec_eval_result(results)\n"
      ]
    },
    {
      "cell_type": "code",
      "execution_count": null,
      "metadata": {
        "id": "888iier3xX1j"
      },
      "outputs": [],
      "source": [
        "# ir_sys_0 = IRSystem(\"lab-data\")"
      ]
    },
    {
      "cell_type": "code",
      "execution_count": null,
      "metadata": {
        "id": "d9srz2ijrLk0"
      },
      "outputs": [],
      "source": [
        "# Dont change this! Use it as-is in your code\n",
        "# This filter will run for both the index and the query\n",
        "class CustomFilter(Filter):\n",
        "    is_morph = True\n",
        "    def __init__(self, filterFunc, *args, **kwargs):\n",
        "        self.customFilter = filterFunc\n",
        "        self.args = args\n",
        "        self.kwargs = kwargs\n",
        "    def __eq__(self):\n",
        "        return (other\n",
        "                and self.__class__ is other.__class__)\n",
        "    def __call__(self, tokens):\n",
        "        for t in tokens:\n",
        "            if t.mode == 'query': # if called by query parser\n",
        "                t.text = self.customFilter(t.text, *self.args, **self.kwargs)\n",
        "                yield t\n",
        "            else: # == 'index' if called by indexer\n",
        "                t.text = self.customFilter(t.text, *self.args, **self.kwargs)\n",
        "                yield t"
      ]
    },
    {
      "cell_type": "markdown",
      "metadata": {
        "id": "m1of-Wop39Ws"
      },
      "source": [
        "## Question 1\n",
        "Provide your text answers in the following two markdown cells"
      ]
    },
    {
      "cell_type": "markdown",
      "metadata": {
        "id": "Pu_aozrL39Ws"
      },
      "source": [
        "### Q1 (a): Provide answer to Q1 (a) here [markdown cell]"
      ]
    },
    {
      "cell_type": "markdown",
      "metadata": {
        "id": "YVMD_vZn39Wt"
      },
      "source": [
        "### Q1 (b): Provide answer to Q1 (b) here [markdown cell]"
      ]
    },
    {
      "cell_type": "markdown",
      "metadata": {
        "id": "MaebEQWj39Wt"
      },
      "source": [
        "## Question 2"
      ]
    },
    {
      "cell_type": "markdown",
      "metadata": {
        "id": "OLwEGzwz39Wu"
      },
      "source": [
        "### Q2 (a): Write your code below"
      ]
    },
    {
      "cell_type": "markdown",
      "metadata": {
        "id": "2y9AKrZIoNVg"
      },
      "source": [
        "**1. The auto-grader will extract and use the following variables, DON'T change the their names:**\n",
        "\n",
        "      self.topic_file  \n",
        "      self.qrels_file  \n",
        "      self.document_dir   \n",
        "      self.file_list  \n",
        "      self.index_sys  \n",
        "      self.query_parser  \n",
        "      self.searcher   \n",
        "\n",
        "\n",
        "\n",
        "**2. DON'T change the names of the already defined funtions**  \n",
        "**3. DON'T change the py_trec_eval function**  \n",
        "**4. DON'T change the class names including CustomFilter, IRSystem, IRQ2, IRQ3, IRQ4**  \n",
        "**5. DON'T change the CustomFilter class and DON'T create any new custom filter class that is used to define Whoosh schema**"
      ]
    },
    {
      "cell_type": "code",
      "execution_count": null,
      "metadata": {
        "id": "uFpj9aErsmkQ"
      },
      "outputs": [],
      "source": [
        "class IRQ2(IRSystem):\n",
        "    def create_index(self):\n",
        "        \"\"\"\n",
        "        INPUT:\n",
        "            None\n",
        "        OUTPUT:\n",
        "            None\n",
        "\n",
        "        NOTE: Please update self.index_sys which should have type whoosh.index.FileIndex\n",
        "        \"\"\"\n",
        "        # DON't change the name of 'index_sys'\n",
        "        self.index_sys = None\n",
        "\n",
        "    def add_files(self):\n",
        "        \"\"\"\n",
        "        INPUT:\n",
        "            None\n",
        "        OUTPUT:\n",
        "            None\n",
        "\n",
        "        NOTE: Add buffer to self.index_sys\n",
        "        \"\"\"\n",
        "        pass\n",
        "\n",
        "    def create_parser_searcher(self):\n",
        "        \"\"\"\n",
        "        INPUT:\n",
        "            None\n",
        "        OUTPUT:\n",
        "            None\n",
        "\n",
        "        NOTE: Please update self.query_parser and self.self.searcherwhich should have type whoosh.qparser.default.QueryParser and whoosh.searching.Searcher respectively\n",
        "        \"\"\"\n",
        "         # DON't change the names of 'query_parser' and 'searcher'\n",
        "        self.query_parser = None\n",
        "        self.searcher = None\n",
        "\n",
        "    def perform_search(self, topic_phrase):\n",
        "        \"\"\"\n",
        "        INPUT:\n",
        "            topic_phrase: string\n",
        "        OUTPUT:\n",
        "            topic_results: whoosh.searching.Results\n",
        "\n",
        "        NOTE: Utilize self.query_parser and self.searcher to calculate the result for topic_phrase\n",
        "        \"\"\"\n",
        "        topic_results = None\n",
        "        return topic_results"
      ]
    },
    {
      "cell_type": "code",
      "execution_count": null,
      "metadata": {
        "id": "pRix3NFQ0RMJ"
      },
      "outputs": [],
      "source": [
        "q2 = IRQ2(\"government\")"
      ]
    },
    {
      "cell_type": "code",
      "execution_count": null,
      "metadata": {
        "id": "a25I8wfOqJIu"
      },
      "outputs": [],
      "source": [
        "q2.add_files()"
      ]
    },
    {
      "cell_type": "code",
      "execution_count": null,
      "metadata": {
        "id": "WXaj7I2X0bSU"
      },
      "outputs": [],
      "source": [
        "q2.py_trec_eval()"
      ]
    },
    {
      "cell_type": "code",
      "execution_count": null,
      "metadata": {
        "id": "x2w4SC820eGi"
      },
      "outputs": [],
      "source": [
        "q2.print_rel_name('1')"
      ]
    },
    {
      "cell_type": "markdown",
      "metadata": {
        "id": "Bs-qgnks39Wz"
      },
      "source": [
        "### Q2 (b): Provide answer to Q2 (b) here [markdown cell]"
      ]
    },
    {
      "cell_type": "markdown",
      "metadata": {
        "id": "0TUIW6hV39Wz"
      },
      "source": [
        "### Q2 (c): Provide answer to Q2(c) here [markdown cell]"
      ]
    },
    {
      "cell_type": "markdown",
      "metadata": {
        "id": "N_e8DZ3K39W0"
      },
      "source": [
        "## Question 3"
      ]
    },
    {
      "cell_type": "markdown",
      "metadata": {
        "id": "yD0gzOt239W1"
      },
      "source": [
        "### Q3 (a): Provide answer to Q3 (a) here [markdown cell]"
      ]
    },
    {
      "cell_type": "markdown",
      "metadata": {
        "id": "tzwPVMgc39W1"
      },
      "source": [
        "### Q3 (b): Write your code below"
      ]
    },
    {
      "cell_type": "markdown",
      "metadata": {
        "id": "Bs-u39j5pwcl"
      },
      "source": [
        "**1. The auto-grader will extract and use the following variables, DON'T change the their names:**\n",
        "\n",
        "      self.topic_file  \n",
        "      self.qrels_file  \n",
        "      self.document_dir   \n",
        "      self.file_list  \n",
        "      self.index_sys  \n",
        "      self.query_parser  \n",
        "      self.searcher   \n",
        "\n",
        "\n",
        "\n",
        "**2. DON'T change the names of the already defined funtions**  \n",
        "**3. DON'T change the py_trec_eval function**  \n",
        "**4. DON'T change the class names including CustomFilter, IRSystem, IRQ2, IRQ3, IRQ4**  \n",
        "**5. DON'T change the CustomFilter class and DON'T create any new custom filter class that is used to define Whoosh schema**"
      ]
    },
    {
      "cell_type": "code",
      "execution_count": null,
      "metadata": {
        "id": "FMF3X7SFyMh3"
      },
      "outputs": [],
      "source": [
        "class IRQ3(IRSystem):\n",
        "    def create_index(self):\n",
        "        \"\"\"\n",
        "        INPUT:\n",
        "            None\n",
        "        OUTPUT:\n",
        "            None\n",
        "\n",
        "        NOTE: Please update self.index_sys which should have type whoosh.index.FileIndex\n",
        "        \"\"\"\n",
        "        # DON't change the name of 'index_sys'\n",
        "        self.index_sys = None\n",
        "\n",
        "    def add_files(self):\n",
        "        \"\"\"\n",
        "        INPUT:\n",
        "            None\n",
        "        OUTPUT:\n",
        "            None\n",
        "\n",
        "        NOTE: Add buffer to self.index_sys\n",
        "        \"\"\"\n",
        "        pass\n",
        "\n",
        "    def create_parser_searcher(self):\n",
        "        \"\"\"\n",
        "        INPUT:\n",
        "            None\n",
        "        OUTPUT:\n",
        "            None\n",
        "\n",
        "        NOTE: Please update self.query_parser and self.self.searcherwhich should have type whoosh.qparser.default.QueryParser and whoosh.searching.Searcher respectively\n",
        "        \"\"\"\n",
        "         # DON't change the names of 'query_parser' and 'searcher'\n",
        "        self.query_parser = None\n",
        "        self.searcher = None\n",
        "\n",
        "    def perform_search(self, topic_phrase):\n",
        "        \"\"\"\n",
        "        INPUT:\n",
        "            topic_phrase: string\n",
        "        OUTPUT:\n",
        "            topicResults: whoosh.searching.Results\n",
        "\n",
        "        NOTE: Utilize self.query_parser and self.searcher to calculate the result for topic_phrase\n",
        "        \"\"\"\n",
        "        topicResults = None\n",
        "        return topicResults"
      ]
    },
    {
      "cell_type": "code",
      "execution_count": null,
      "metadata": {
        "id": "zyi7VnKhD0Dj"
      },
      "outputs": [],
      "source": [
        "q3 = IRQ3(\"government\")"
      ]
    },
    {
      "cell_type": "code",
      "execution_count": null,
      "metadata": {
        "id": "BLMCVogyp5K8"
      },
      "outputs": [],
      "source": [
        "q3.add_files()"
      ]
    },
    {
      "cell_type": "code",
      "execution_count": null,
      "metadata": {
        "id": "8CvSrdxQD2HK"
      },
      "outputs": [],
      "source": [
        "q3.py_trec_eval()"
      ]
    },
    {
      "cell_type": "code",
      "execution_count": null,
      "metadata": {
        "id": "1qCZA6PID3kq"
      },
      "outputs": [],
      "source": [
        "q3.print_rel_name('1')"
      ]
    },
    {
      "cell_type": "markdown",
      "metadata": {
        "id": "mD4nxtDK39W7"
      },
      "source": [
        "### Q3 (c): Provide answer to Q3 (c) here [markdown cell]"
      ]
    },
    {
      "cell_type": "markdown",
      "metadata": {
        "id": "cntL2Jdt39W8"
      },
      "source": [
        "### Q3 (d): Provide answer to Q3 (d) here [markdown cell]"
      ]
    },
    {
      "cell_type": "markdown",
      "metadata": {
        "id": "iKhLuIOw39W8"
      },
      "source": [
        "### Q3 (e): Provide answer to Q3 (e) here [markdown cell]"
      ]
    },
    {
      "cell_type": "markdown",
      "metadata": {
        "id": "Hl4AUf0n39W9"
      },
      "source": [
        "### Q3 (f): Provide answer to Q3 (f) here [markdown cell]"
      ]
    },
    {
      "cell_type": "markdown",
      "metadata": {
        "id": "SxIckwJc39XL"
      },
      "source": [
        "## Validation"
      ]
    },
    {
      "cell_type": "code",
      "execution_count": null,
      "metadata": {
        "id": "t8aamYn839XL"
      },
      "outputs": [],
      "source": [
        "# Run the following cells to make sure your code returns the correct value types"
      ]
    },
    {
      "cell_type": "code",
      "execution_count": null,
      "metadata": {
        "id": "jniUiH1b39XO"
      },
      "outputs": [],
      "source": [
        "from whoosh.index import FileIndex\n",
        "from whoosh.qparser import QueryParser\n",
        "from whoosh.searching import Searcher\n",
        "import os.path"
      ]
    },
    {
      "cell_type": "markdown",
      "metadata": {
        "id": "X3YfPSiI39XR"
      },
      "source": [
        "### Q2 Validation"
      ]
    },
    {
      "cell_type": "code",
      "execution_count": null,
      "metadata": {
        "id": "3GCl6C7n39XS"
      },
      "outputs": [],
      "source": [
        "q2 = IRQ2(\"government\")\n",
        "assert(isinstance(q2.index_sys, FileIndex)), \"Index Type\"\n",
        "assert(isinstance(q2.query_parser, QueryParser)), \"Query Parser Type\"\n",
        "assert(isinstance(q2.searcher, Searcher)), \"Searcher Type\"\n",
        "print(\"Q2 Types Validated\")"
      ]
    },
    {
      "cell_type": "markdown",
      "metadata": {
        "id": "t9aZQ-PY39XW"
      },
      "source": [
        "### Q3 Validation"
      ]
    },
    {
      "cell_type": "code",
      "execution_count": null,
      "metadata": {
        "id": "rEKvL0g-39XX"
      },
      "outputs": [],
      "source": [
        "q3 = IRQ3(\"government\")\n",
        "assert(isinstance(q3.index_sys, FileIndex)), \"Index Type\"\n",
        "assert(isinstance(q3.query_parser, QueryParser)), \"Query Parser Type\"\n",
        "assert(isinstance(q3.searcher, Searcher)), \"Searcher Type\"\n",
        "print(\"Q3 Types Validated\")"
      ]
    }
  ],
  "metadata": {
    "colab": {
      "provenance": []
    },
    "kernelspec": {
      "display_name": "Python 3",
      "language": "python",
      "name": "python3"
    },
    "language_info": {
      "codemirror_mode": {
        "name": "ipython",
        "version": 3
      },
      "file_extension": ".py",
      "mimetype": "text/x-python",
      "name": "python",
      "nbconvert_exporter": "python",
      "pygments_lexer": "ipython3",
      "version": "3.8.5"
    }
  },
  "nbformat": 4,
  "nbformat_minor": 0
}
