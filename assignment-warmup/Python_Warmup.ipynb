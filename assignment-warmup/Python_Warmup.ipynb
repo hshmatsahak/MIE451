{
  "cells": [
    {
      "cell_type": "markdown",
      "metadata": {
        "id": "4L1Vk_YhUVSO"
      },
      "source": [
        "# Assignment - Python Warmup\n",
        "Please follow the instructions in the assignment's PDF and fill in the code for each function."
      ]
    },
    {
      "cell_type": "markdown",
      "metadata": {
        "id": "K2wlQJ1RUVSQ"
      },
      "source": [
        "## Exercise 1"
      ]
    },
    {
      "cell_type": "code",
      "source": [
        "import pandas as pd\n",
        "import numpy as np\n",
        "import string"
      ],
      "metadata": {
        "id": "PIsClKUtw_Sh"
      },
      "execution_count": 1,
      "outputs": []
    },
    {
      "cell_type": "code",
      "execution_count": 2,
      "metadata": {
        "id": "LRYjSAU2UVSR"
      },
      "outputs": [],
      "source": [
        "# for each sentence in file, append word in specified position\n",
        "def positionWord(filePath, position):\n",
        "  res = []\n",
        "  with open(filePath, 'r') as f: # read file\n",
        "    for line in f: # loop through lines\n",
        "      sentence = line.strip()\n",
        "      words = sentence.split(' ') # split sentence to words\n",
        "      res.append(words[position].strip(string.punctuation)) # append word in position <position> to result\n",
        "  return res"
      ]
    },
    {
      "cell_type": "code",
      "source": [
        "# positionWord(\"example.txt\", 3)"
      ],
      "metadata": {
        "id": "DuQf7VNjHk6v"
      },
      "execution_count": 3,
      "outputs": []
    },
    {
      "cell_type": "markdown",
      "metadata": {
        "id": "SVGFSuf1UVSV"
      },
      "source": [
        "## Exercise 2"
      ]
    },
    {
      "cell_type": "code",
      "execution_count": 4,
      "metadata": {
        "id": "aUz-S0pDUVSW"
      },
      "outputs": [],
      "source": [
        "# given text of potentially lower- and upper-case, return only uppercase characters\n",
        "def onlyUpperCase(text):\n",
        "  res = '' # initialize result as empty string\n",
        "  for ch in text: # loop through characters\n",
        "    if ch.isupper(): # append if its an uppercase char\n",
        "      res += ch\n",
        "  return res"
      ]
    },
    {
      "cell_type": "code",
      "source": [
        "# onlyUpperCase(\"lorem ipsum Dolor Sit amet, conSectetur.\")"
      ],
      "metadata": {
        "id": "yX5VfKaXICU2"
      },
      "execution_count": 5,
      "outputs": []
    },
    {
      "cell_type": "markdown",
      "metadata": {
        "id": "z2rIx_F7UVSZ"
      },
      "source": [
        "## Exercise 3"
      ]
    },
    {
      "cell_type": "code",
      "execution_count": 6,
      "metadata": {
        "id": "E6XvgsgmUVSa"
      },
      "outputs": [],
      "source": [
        "# return divisors of num2 between 1 and num1 (inclusive)\n",
        "def divisors(num1, num2):\n",
        "  # return range of numbers from num2, skip num2, till num1\n",
        "  return list(range(num2, num1+1, num2))"
      ]
    },
    {
      "cell_type": "code",
      "source": [
        "# print(divisors(26, 6))\n",
        "# print(divisors(2,2))\n",
        "# print(divisors(15,1))"
      ],
      "metadata": {
        "id": "dvwP8i6dIaVK"
      },
      "execution_count": 7,
      "outputs": []
    },
    {
      "cell_type": "markdown",
      "metadata": {
        "id": "fJEhXAtDUVSd"
      },
      "source": [
        "## Exercise 4"
      ]
    },
    {
      "cell_type": "code",
      "execution_count": 8,
      "metadata": {
        "id": "3Cs0OgGmUVSe"
      },
      "outputs": [],
      "source": [
        "# return dictionary of word counts given list of words\n",
        "def countWords(wordList):\n",
        "  wordCount = dict()\n",
        "  for word in wordList: # loop through wordList\n",
        "    wordCount[word] = wordCount.get(word, 0) + 1 # increment word count\n",
        "  return wordCount"
      ]
    },
    {
      "cell_type": "code",
      "source": [
        "# countWords([\"the\", \"seething\", \"sea\", \"ceaseth\", \"and\", \"thus\", \"the\", \"seething\", \"sea\", \"sufficeth\", \"us\"])"
      ],
      "metadata": {
        "id": "yggpMdssIwxG"
      },
      "execution_count": 9,
      "outputs": []
    },
    {
      "cell_type": "markdown",
      "metadata": {
        "id": "CGC6gPENUVSh"
      },
      "source": [
        "## Exercise 5"
      ]
    },
    {
      "cell_type": "code",
      "execution_count": 10,
      "metadata": {
        "id": "yABkiEt5UVSi"
      },
      "outputs": [],
      "source": [
        "# Given list of words, return dictionary of word counts by length of word\n",
        "def organizedCountWords(wordList):\n",
        "  res = dict()\n",
        "  for word in wordList: # loop through words\n",
        "    if len(word) not in res: # if wordlen not in dict\n",
        "      res[len(word)] = dict() # empty dict\n",
        "    res[len(word)][word] = res[len(word)].get(word, 0) + 1 # increment by 1\n",
        "  return res"
      ]
    },
    {
      "cell_type": "code",
      "source": [
        "# organizedCountWords([\"the\", \"seething\", \"sea\", \"ceaseth\", \"and\", \"thus\", \"the\", \"seething\", \"sea\", \"sufficeth\", \"us\"])"
      ],
      "metadata": {
        "id": "7rAjX_X7KNYM"
      },
      "execution_count": 11,
      "outputs": []
    },
    {
      "cell_type": "markdown",
      "metadata": {
        "id": "tlb0ecAtUX-e"
      },
      "source": [
        "##Exercise 6"
      ]
    },
    {
      "cell_type": "code",
      "execution_count": 12,
      "metadata": {
        "id": "FvW7BpD3UXG2"
      },
      "outputs": [],
      "source": [
        "# Compute average price of rooms in neighbourhood according to provided filters\n",
        "def AvgNeighbourhoodListingPrice(neighbourhoodList, room_type, number_of_reviews, minimum_nights):\n",
        "  df = pd.read_csv('https://raw.githubusercontent.com/MIE451-2021/course-datasets/master/toronto_airbnb_listings_Aug2019.csv') # read df\n",
        "  df = df[df['neighbourhood'].isin(neighbourhoodList)] # filter by neighbourhoodList\n",
        "  df = df[df['room_type'] == room_type] # filter by room_type\n",
        "  df = df[df['number_of_reviews'] >= number_of_reviews] # filter by number of reviews\n",
        "  df = df[df['minimum_nights'] <= minimum_nights] # filter by min nights\n",
        "  grouped_df = df.groupby('neighbourhood')[['price']].mean().round(2) # make one column, index by neighbourhood\n",
        "  grouped_df.sort_values(by=['price'], inplace=True, # sort descending order\n",
        "               ascending = [False])\n",
        "  return grouped_df"
      ]
    },
    {
      "cell_type": "code",
      "source": [
        "# AvgNeighbourhoodListingPrice([\"Edenbridge-Humber Valley\",\"Annex\", \"The Beaches\"],\"Entire home/apt\", 30, 3)"
      ],
      "metadata": {
        "id": "fNSFiU59Kzuq"
      },
      "execution_count": 13,
      "outputs": []
    },
    {
      "cell_type": "markdown",
      "metadata": {
        "id": "cxMjcYPrjkZL"
      },
      "source": [
        "## Exercise 7"
      ]
    },
    {
      "cell_type": "code",
      "execution_count": 14,
      "metadata": {
        "id": "xRjMh_EjjnYM"
      },
      "outputs": [],
      "source": [
        "# Solve for coefficients for least squares regression problem\n",
        "def leastSquaresFit(urlX,urlY):\n",
        "  # each line is self-explanatory and doesn't need comments\n",
        "  Xdf = pd.read_csv(urlX, header=None)\n",
        "  X = Xdf.to_numpy()\n",
        "  N = X.shape[0]\n",
        "  column_of_ones = np.ones((N, 1))\n",
        "  X = np.hstack((column_of_ones, X))\n",
        "  ydf = pd.read_csv(urlY, header=None)\n",
        "  y = ydf.to_numpy()\n",
        "  XT = np.transpose(X)\n",
        "  XTX = np.matmul(XT, X)\n",
        "  XTy = np.matmul(XT, y)\n",
        "  w = np.matmul(np.linalg.inv(XTX), XTy)\n",
        "  return w"
      ]
    },
    {
      "cell_type": "code",
      "source": [
        "# URLX = 'https://raw.githubusercontent.com/MIE451-2021/course-datasets/master/X.csv'\n",
        "# URLY = 'https://raw.githubusercontent.com/MIE451-2021/course-datasets/master/Y.csv'\n",
        "# leastSquaresFit(URLX,URLY)"
      ],
      "metadata": {
        "id": "b7QTNMNmQ4Ch"
      },
      "execution_count": 15,
      "outputs": []
    },
    {
      "cell_type": "markdown",
      "metadata": {
        "id": "4BVZJpHKUVSk"
      },
      "source": [
        "----------\n",
        "## Validators\n",
        "This following cell provide basic validation of your functions.\n",
        "\n",
        "You should run each cell and make sure you do not get an exception.\n",
        "\n",
        "**IMPORTANT: passing these validators does not mean your code is correct. These are basic validators to make sure the interface of your functions is correct.**"
      ]
    },
    {
      "cell_type": "code",
      "execution_count": 16,
      "metadata": {
        "id": "ciHXaur-UVSk"
      },
      "outputs": [],
      "source": [
        "assert(isinstance(positionWord(\"example.txt\", 2), list))"
      ]
    },
    {
      "cell_type": "code",
      "execution_count": 17,
      "metadata": {
        "id": "j7V9yRrQUVSm"
      },
      "outputs": [],
      "source": [
        "assert(isinstance(onlyUpperCase(\"lorem ipsum Dolor Sit amet, conSectetur.\"), str))"
      ]
    },
    {
      "cell_type": "code",
      "execution_count": 18,
      "metadata": {
        "id": "xEW8K0GKUVSo"
      },
      "outputs": [],
      "source": [
        "assert(isinstance(divisors(23, 6), list))"
      ]
    },
    {
      "cell_type": "code",
      "execution_count": 19,
      "metadata": {
        "id": "oo1YSY-GUVSq"
      },
      "outputs": [],
      "source": [
        "words = [\"the\", \"seething\", \"sea\", \"ceaseth\", \"and\", \"thus\", \"the\", \"seething\", \"sea\", \"sufficeth\", \"us\"]\n",
        "assert(isinstance(countWords(words), dict))"
      ]
    },
    {
      "cell_type": "code",
      "execution_count": 20,
      "metadata": {
        "id": "FFbsU1TuUVSr"
      },
      "outputs": [],
      "source": [
        "words = [\"the\", \"seething\", \"sea\", \"ceaseth\", \"and\", \"thus\", \"the\", \"seething\", \"sea\", \"sufficeth\", \"us\"]\n",
        "assert(isinstance(organizedCountWords(words), dict))"
      ]
    },
    {
      "cell_type": "code",
      "execution_count": 21,
      "metadata": {
        "id": "ws_ZzLA0W1Qp"
      },
      "outputs": [],
      "source": [
        "df = AvgNeighbourhoodListingPrice([\"Little Portugal\",\"Waterfront Communities-The Island\",\"Rosedale-Moore Park\",\"Kensington-Chinatown\"], \"Private room\", 50, 4)\n",
        "assert(df.shape == (4,1))"
      ]
    },
    {
      "cell_type": "code",
      "execution_count": 22,
      "metadata": {
        "id": "jJdtrJvurNcl"
      },
      "outputs": [],
      "source": [
        "import numpy as np\n",
        "w = leastSquaresFit(\"https://raw.githubusercontent.com/MIE451-2022/course-datasets/main/X.csv\",\"https://raw.githubusercontent.com/MIE451-2022/course-datasets/main/Y.csv\")\n",
        "assert(isinstance(w, np.ndarray))"
      ]
    },
    {
      "cell_type": "code",
      "execution_count": 23,
      "metadata": {
        "id": "dZNBA8Y6g602"
      },
      "outputs": [],
      "source": [
        "import pandas as pd\n",
        "assert(isinstance(df,pd.DataFrame))"
      ]
    }
  ],
  "metadata": {
    "colab": {
      "provenance": []
    },
    "kernelspec": {
      "display_name": "Python 3",
      "language": "python",
      "name": "python3"
    },
    "language_info": {
      "codemirror_mode": {
        "name": "ipython",
        "version": 3
      },
      "file_extension": ".py",
      "mimetype": "text/x-python",
      "name": "python",
      "nbconvert_exporter": "python",
      "pygments_lexer": "ipython3",
      "version": "3.8.8"
    }
  },
  "nbformat": 4,
  "nbformat_minor": 0
}