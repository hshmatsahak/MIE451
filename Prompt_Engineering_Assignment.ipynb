{
  "nbformat": 4,
  "nbformat_minor": 0,
  "metadata": {
    "colab": {
      "provenance": []
    },
    "kernelspec": {
      "name": "python3",
      "display_name": "Python 3"
    },
    "language_info": {
      "name": "python"
    }
  },
  "cells": [
    {
      "cell_type": "markdown",
      "source": [
        "It is not mandatory to use code for the assignment, but you **must** submit any code you used in this notebook."
      ],
      "metadata": {
        "id": "ukKvWytVkT3w"
      }
    },
    {
      "cell_type": "markdown",
      "source": [
        "#Data Curation\n",
        "\n",
        "Include any code for downloading, analysing, or processing data.\n"
      ],
      "metadata": {
        "id": "DE4aZqgpk4Yo"
      }
    },
    {
      "cell_type": "markdown",
      "source": [
        "#Prompt Engineering\n",
        "Include any code used for your final prompts (e.g. API calls).\n"
      ],
      "metadata": {
        "id": "Zz2iTtlWlIfl"
      }
    },
    {
      "cell_type": "markdown",
      "source": [
        "#Evaluation\n",
        "Include any functions for evaluation and result processing."
      ],
      "metadata": {
        "id": "H0kqqNRcmeey"
      }
    }
  ]
}